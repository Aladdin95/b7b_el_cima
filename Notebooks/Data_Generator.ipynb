{
 "cells": [
  {
   "cell_type": "code",
   "execution_count": null,
   "metadata": {},
   "outputs": [],
   "source": [
    "import numpy as np\n",
    "import keras\n",
    "import cv2\n",
    "from keras import backend as k\n",
    "from keras.models import Sequential,Model,load_model\n",
    "from keras.layers import Conv2D, MaxPooling2D, Activation, BatchNormalization, UpSampling2D, Dropout, Flatten, Dense, Input, LeakyReLU, Conv2DTranspose,AveragePooling2D, Concatenate\n",
    "from keras.layers.merge import concatenate, add\n",
    "from keras.optimizers import Adam\n",
    "from keras.preprocessing.image import ImageDataGenerator\n",
    "from keras.callbacks import ModelCheckpoint\n",
    "from tensorflow import set_random_seed\n",
    "from google.colab import drive\n",
    "drive.mount('/content/drive')\n",
    "\n",
    "from PIL import Image\n",
    "from skimage import color, io\n",
    "from zipfile import ZipFile \n",
    "from io import BytesIO\n",
    "import matplotlib.pyplot as plt\n",
    "\n",
    "np.random.seed(1)\n",
    "set_random_seed(1)"
   ]
  },
  {
   "cell_type": "code",
   "execution_count": null,
   "metadata": {},
   "outputs": [],
   "source": [
    "class DataGenerator(keras.utils.Sequence):\n",
    "  'Generates data for Keras'\n",
    "  \n",
    "  def __init__(self, list_IDs, zip_file, batch_size=32, dim=(256, 256), n_channels=3, shuffle=True):\n",
    "    'Initialization'\n",
    "    self.dim = dim\n",
    "    self.batch_size = batch_size\n",
    "    self.list_IDs = list_IDs\n",
    "    self.zip_file = zip_file\n",
    "    self.n_channels = n_channels\n",
    "    self.shuffle = shuffle\n",
    "    self.on_epoch_end()            # shuffle data on the beginning\n",
    "\n",
    "  def __len__(self):\n",
    "    'Denotes the number of batches per epoch'\n",
    "    return int(np.floor(len(self.list_IDs) / self.batch_size))\n",
    "\n",
    "  def __getitem__(self, index):\n",
    "    'Generate one batch of data'\n",
    "    # Generate indexes of the batch\n",
    "    indexes = self.indexes[index*self.batch_size:(index+1)*self.batch_size]\n",
    "\n",
    "    # Find list of IDs\n",
    "    list_IDs_temp = [self.list_IDs[k] for k in indexes]\n",
    "\n",
    "    # Generate data\n",
    "    X, y = self.__data_generation(list_IDs_temp)\n",
    "\n",
    "    return X, y\n",
    "\n",
    "  def on_epoch_end(self):\n",
    "    'Updates indexes after each epoch'\n",
    "    self.indexes = np.arange(len(self.list_IDs))\n",
    "    if self.shuffle == True:\n",
    "      np.random.shuffle(self.indexes)\n",
    "\n",
    "  def __data_generation(self, list_IDs_temp):\n",
    "    'Generates data containing batch_size samples' # X : (n_samples, *dim, n_channels)\n",
    "    # Initialization\n",
    "    y = np.empty((self.batch_size, *self.dim, self.n_channels), dtype=np.float32)\n",
    "    X = np.empty((self.batch_size, *self.dim, 1), dtype=np.float32)\n",
    "\n",
    "    # Generate data\n",
    "    for i, ID in enumerate(list_IDs_temp):\n",
    "      img_rgb = np.array(Image.open(BytesIO(self.zip_file.read(ID))).convert('RGB')) / 255\n",
    "      img_lab = color.rgb2lab(img_rgb)\n",
    "      img_lab[:,:,0] = img_lab[:,:,0] / 50 - 1\n",
    "      img_lab[:,:,0] = img_lab[:,:,0]\n",
    "\n",
    "      img_lab[:,:,1:] = (img_lab[:,:,1:] + 128) / 255 * 2 - 1\n",
    "      \n",
    "      y[i,] = img_lab\n",
    "      X[i,] = color.rgb2gray(img_rgb)[...,np.newaxis]*2 - 1\n",
    "            \n",
    "    return X, y\n"
   ]
  },
  {
   "cell_type": "code",
   "execution_count": null,
   "metadata": {},
   "outputs": [],
   "source": [
    "data_path = '/content/drive/My Drive/data_b7b_elcima/colored.zip'\n",
    "zip_data =  ZipFile(data_path, 'r')\n",
    "ids = zip_data.namelist()[1:]\n",
    "np.random.shuffle(ids)\n",
    "dev_length = int(0.1 * len(ids))\n",
    "test_length = int(0.05 * len(ids))\n",
    "test_ids = ids[:test_length]\n",
    "dev_ids = ids[test_length:dev_length]\n",
    "train_ids = ids[dev_length:]"
   ]
  },
  {
   "cell_type": "code",
   "execution_count": null,
   "metadata": {},
   "outputs": [],
   "source": [
    "batch_size = 32\n",
    "\n",
    "test_generator = DataGenerator(test_ids, zip_data, batch_size=batch_size)\n",
    "training_generator = DataGenerator(train_ids, zip_data, batch_size=batch_size)\n",
    "validation_generator = DataGenerator(dev_ids, zip_data, batch_size=batch_size)"
   ]
  }
 ],
 "metadata": {
  "kernelspec": {
   "display_name": "Python 3",
   "language": "python",
   "name": "python3"
  },
  "language_info": {
   "codemirror_mode": {
    "name": "ipython",
    "version": 3
   },
   "file_extension": ".py",
   "mimetype": "text/x-python",
   "name": "python",
   "nbconvert_exporter": "python",
   "pygments_lexer": "ipython3",
   "version": "3.6.5"
  }
 },
 "nbformat": 4,
 "nbformat_minor": 2
}
