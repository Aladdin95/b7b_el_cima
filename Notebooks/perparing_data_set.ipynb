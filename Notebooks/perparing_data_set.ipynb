{
 "cells": [
  {
   "cell_type": "code",
   "execution_count": null,
   "metadata": {},
   "outputs": [
    {
     "name": "stdout",
     "output_type": "stream",
     "text": [
      "reading movie Aladdin\\Amir_El-Dhaa.mp4 :  True\n",
      "processing\n"
     ]
    },
    {
     "data": {
      "application/vnd.jupyter.widget-view+json": {
       "model_id": "33c327ec1d8d4d84beef9d81f5c3c95e",
       "version_major": 2,
       "version_minor": 0
      },
      "text/plain": [
       "IntProgress(value=0, description='Amir_El-Dhaa', max=196197)"
      ]
     },
     "metadata": {},
     "output_type": "display_data"
    },
    {
     "name": "stdout",
     "output_type": "stream",
     "text": [
      "reading movie Aladdin\\Antr_Ebn_Shaddad.mp4 :  True\n",
      "processing\n"
     ]
    },
    {
     "data": {
      "application/vnd.jupyter.widget-view+json": {
       "model_id": "4d9b2be3a0074769ab5fdb4cf613d872",
       "version_major": 2,
       "version_minor": 0
      },
      "text/plain": [
       "IntProgress(value=0, description='Antr_Ebn_Shaddad', max=208021)"
      ]
     },
     "metadata": {},
     "output_type": "display_data"
    },
    {
     "name": "stdout",
     "output_type": "stream",
     "text": [
      "reading movie Aladdin\\Aroos_El-Nile.mp4 :  True\n",
      "processing\n"
     ]
    },
    {
     "data": {
      "application/vnd.jupyter.widget-view+json": {
       "model_id": "e76b105f718e43a4b25d820a09749469",
       "version_major": 2,
       "version_minor": 0
      },
      "text/plain": [
       "IntProgress(value=0, description='Aroos_El-Nile', max=181378)"
      ]
     },
     "metadata": {},
     "output_type": "display_data"
    },
    {
     "name": "stdout",
     "output_type": "stream",
     "text": [
      "reading movie Aladdin\\El_Ard.mp4 :  True\n",
      "processing\n"
     ]
    },
    {
     "data": {
      "application/vnd.jupyter.widget-view+json": {
       "model_id": "356b169896bc4510bcfdaac47333de30",
       "version_major": 2,
       "version_minor": 0
      },
      "text/plain": [
       "IntProgress(value=0, description='El_Ard', max=194231)"
      ]
     },
     "metadata": {},
     "output_type": "display_data"
    },
    {
     "name": "stdout",
     "output_type": "stream",
     "text": [
      "reading movie Aladdin\\Gharam Fi Al karank.mp4 :  True\n",
      "processing\n"
     ]
    },
    {
     "data": {
      "application/vnd.jupyter.widget-view+json": {
       "model_id": "d5edcc20661045aa845fd4ec5e229262",
       "version_major": 2,
       "version_minor": 0
      },
      "text/plain": [
       "IntProgress(value=0, description='Gharam Fi Al karank', max=139835)"
      ]
     },
     "metadata": {},
     "output_type": "display_data"
    },
    {
     "name": "stdout",
     "output_type": "stream",
     "text": [
      "reading movie mado\\Dalila Movie.mp4 :  True\n",
      "processing\n"
     ]
    },
    {
     "data": {
      "application/vnd.jupyter.widget-view+json": {
       "model_id": "f4159b9d73fe419eaab7462b23856e01",
       "version_major": 2,
       "version_minor": 0
      },
      "text/plain": [
       "IntProgress(value=0, description='Dalila Movie', max=181774)"
      ]
     },
     "metadata": {},
     "output_type": "display_data"
    },
    {
     "name": "stdout",
     "output_type": "stream",
     "text": [
      "reading movie mado\\El Bahth An Fediha.mp4 :  True\n",
      "processing\n"
     ]
    },
    {
     "data": {
      "application/vnd.jupyter.widget-view+json": {
       "model_id": "925910953e6d4787ba4cde6b90ce3df7",
       "version_major": 2,
       "version_minor": 0
      },
      "text/plain": [
       "IntProgress(value=0, description='El Bahth An Fediha', max=148067)"
      ]
     },
     "metadata": {},
     "output_type": "display_data"
    },
    {
     "name": "stdout",
     "output_type": "stream",
     "text": [
      "reading movie mado\\El_Sokkarya.mp4 :  True\n",
      "processing\n"
     ]
    },
    {
     "data": {
      "application/vnd.jupyter.widget-view+json": {
       "model_id": "84c3081448134c1baec33901b79bd1de",
       "version_major": 2,
       "version_minor": 0
      },
      "text/plain": [
       "IntProgress(value=0, description='El_Sokkarya', max=194284)"
      ]
     },
     "metadata": {},
     "output_type": "display_data"
    },
    {
     "name": "stdout",
     "output_type": "stream",
     "text": [
      "reading movie mado\\khale_balak_mn_zozo.mp4 :  True\n",
      "processing\n"
     ]
    },
    {
     "data": {
      "application/vnd.jupyter.widget-view+json": {
       "model_id": "26aa64e6342148a09ba58237f820bef1",
       "version_major": 2,
       "version_minor": 0
      },
      "text/plain": [
       "IntProgress(value=0, description='khale_balak_mn_zozo', max=183906)"
      ]
     },
     "metadata": {},
     "output_type": "display_data"
    },
    {
     "name": "stdout",
     "output_type": "stream",
     "text": [
      "reading movie mado\\m_emperror.mp4 :  True\n",
      "processing\n"
     ]
    },
    {
     "data": {
      "application/vnd.jupyter.widget-view+json": {
       "model_id": "5b52e5dddf5a45e2aacabbe6bed1c4de",
       "version_major": 2,
       "version_minor": 0
      },
      "text/plain": [
       "IntProgress(value=0, description='m_emperror', max=154050)"
      ]
     },
     "metadata": {},
     "output_type": "display_data"
    },
    {
     "name": "stdout",
     "output_type": "stream",
     "text": [
      "reading movie rawan\\movie1.mp4 :  True\n",
      "processing\n"
     ]
    },
    {
     "data": {
      "application/vnd.jupyter.widget-view+json": {
       "model_id": "9f8808b1b2654a9e860bb819f21152a3",
       "version_major": 2,
       "version_minor": 0
      },
      "text/plain": [
       "IntProgress(value=0, description='movie1', max=139017)"
      ]
     },
     "metadata": {},
     "output_type": "display_data"
    },
    {
     "name": "stdout",
     "output_type": "stream",
     "text": [
      "reading movie rawan\\movie2.mp4 :  True\n",
      "processing\n"
     ]
    },
    {
     "data": {
      "application/vnd.jupyter.widget-view+json": {
       "model_id": "98389e809d564723a6129d140ec7d4a1",
       "version_major": 2,
       "version_minor": 0
      },
      "text/plain": [
       "IntProgress(value=0, description='movie2', max=225357)"
      ]
     },
     "metadata": {},
     "output_type": "display_data"
    },
    {
     "name": "stdout",
     "output_type": "stream",
     "text": [
      "reading movie rawan\\movie3.mp4 :  True\n",
      "processing\n"
     ]
    },
    {
     "data": {
      "application/vnd.jupyter.widget-view+json": {
       "model_id": "9637e0a172b64eef960e0afc6604c9c5",
       "version_major": 2,
       "version_minor": 0
      },
      "text/plain": [
       "IntProgress(value=0, description='movie3', max=180000)"
      ]
     },
     "metadata": {},
     "output_type": "display_data"
    },
    {
     "name": "stdout",
     "output_type": "stream",
     "text": [
      "reading movie rawan\\movie4.mp4 :  True\n",
      "processing\n"
     ]
    },
    {
     "data": {
      "application/vnd.jupyter.widget-view+json": {
       "model_id": "02b2807ebcc343b6b6bf20a64ec5bee1",
       "version_major": 2,
       "version_minor": 0
      },
      "text/plain": [
       "IntProgress(value=0, description='movie4', max=247151)"
      ]
     },
     "metadata": {},
     "output_type": "display_data"
    },
    {
     "name": "stdout",
     "output_type": "stream",
     "text": [
      "reading movie rawan\\movie5.mp4 :  True\n",
      "processing\n"
     ]
    },
    {
     "data": {
      "application/vnd.jupyter.widget-view+json": {
       "model_id": "88977ebba24b45768965ef3ceda8a0f2",
       "version_major": 2,
       "version_minor": 0
      },
      "text/plain": [
       "IntProgress(value=0, description='movie5', max=185401)"
      ]
     },
     "metadata": {},
     "output_type": "display_data"
    }
   ],
   "source": [
    "import cv2\n",
    "import glob\n",
    "from IPython.display import display, clear_output\n",
    "from ipywidgets import IntProgress\n",
    "\n",
    "for c, path in enumerate(glob.glob('**/*.mp4')):\n",
    "    vidcap = cv2.VideoCapture(path)\n",
    "    success, image = vidcap.read()\n",
    "    \n",
    "    count = 0\n",
    "    count2 = 0\n",
    "    length = int(vidcap.get(cv2.CAP_PROP_FRAME_COUNT))\n",
    "    movie_name = path.split('\\\\')[-1].split('.')[0]\n",
    "    print('reading movie', path, ': ', success)\n",
    "    print('processing')\n",
    "    f = IntProgress(min=0, max=length, description=movie_name); display(f)\n",
    "    while success:\n",
    "        if not count%60:\n",
    "            #print ('movie #',c+1, movie_name, 'Read a new frame #: ','{}/{}'.format(count, length))\n",
    "            image = cv2.resize(image,(256,256))\n",
    "            gray = cv2.cvtColor(image, cv2.COLOR_BGR2GRAY)\n",
    "            cv2.imwrite(\"gray/{}_{}.jpg\".format(movie_name, count2), gray)     # save input frame as JPEG file\n",
    "            cv2.imwrite(\"colored/{}_{}.jpg\".format(movie_name, count2), image)     # save output frame as JPEG file\n",
    "            count2+=1\n",
    "        success, image = vidcap.read()\n",
    "        count += 1\n",
    "        f.value = count\n",
    "\n",
    "print(\"done ...\")"
   ]
  },
  {
   "cell_type": "code",
   "execution_count": null,
   "metadata": {},
   "outputs": [],
   "source": []
  }
 ],
 "metadata": {
  "kernelspec": {
   "display_name": "Python 3",
   "language": "python",
   "name": "python3"
  },
  "language_info": {
   "codemirror_mode": {
    "name": "ipython",
    "version": 3
   },
   "file_extension": ".py",
   "mimetype": "text/x-python",
   "name": "python",
   "nbconvert_exporter": "python",
   "pygments_lexer": "ipython3",
   "version": "3.6.5"
  }
 },
 "nbformat": 4,
 "nbformat_minor": 2
}
